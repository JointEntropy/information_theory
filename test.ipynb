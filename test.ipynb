{
 "cells": [
  {
   "cell_type": "code",
   "execution_count": 11,
   "metadata": {},
   "outputs": [
    {
     "name": "stdout",
     "output_type": "stream",
     "text": [
      "The autoreload extension is already loaded. To reload it, use:\n",
      "  %reload_ext autoreload\n",
      "Populating the interactive namespace from numpy and matplotlib\n"
     ]
    }
   ],
   "source": [
    "%load_ext autoreload\n",
    "%autoreload 2\n",
    "\n",
    "%pylab inline"
   ]
  },
  {
   "cell_type": "code",
   "execution_count": 14,
   "metadata": {},
   "outputs": [],
   "source": [
    "import pandas as pd"
   ]
  },
  {
   "cell_type": "markdown",
   "metadata": {},
   "source": [
    "package"
   ]
  },
  {
   "cell_type": "code",
   "execution_count": 4,
   "metadata": {},
   "outputs": [],
   "source": [
    "# import os, sys\n",
    "# sys.path.append('python/')"
   ]
  },
  {
   "cell_type": "code",
   "execution_count": 6,
   "metadata": {},
   "outputs": [],
   "source": [
    "# import arithmeticcoding as ac"
   ]
  },
  {
   "cell_type": "markdown",
   "metadata": {},
   "source": [
    "my"
   ]
  },
  {
   "cell_type": "code",
   "execution_count": 152,
   "metadata": {},
   "outputs": [],
   "source": [
    "alpha_to_prob = pd.Series([0.4, 0.3, 0.1, 0.2], index=['m','n','o','p'])\n",
    "inp = 'mnnop'"
   ]
  },
  {
   "cell_type": "markdown",
   "metadata": {},
   "source": [
    "https://github.com/gw-c/arith"
   ]
  },
  {
   "cell_type": "code",
   "execution_count": 188,
   "metadata": {},
   "outputs": [],
   "source": [
    "alpha_to_prob = pd.Series([3/7, 2/7, 1/7, 1/7], index=['A','N','!','B'])\n",
    "inp = 'BANANA!'"
   ]
  },
  {
   "cell_type": "markdown",
   "metadata": {},
   "source": [
    "лидовский с 26"
   ]
  },
  {
   "cell_type": "code",
   "execution_count": 196,
   "metadata": {},
   "outputs": [],
   "source": [
    "alpha_to_prob = pd.Series([2/3, 1/3], index=['0','1'])\n",
    "inp = '110'"
   ]
  },
  {
   "cell_type": "code",
   "execution_count": 198,
   "metadata": {},
   "outputs": [
    {
     "name": "stdout",
     "output_type": "stream",
     "text": [
      "{'0': 0.0, '1': 0.6666666666666666}\n",
      "0 1\n",
      "0.6666666666666666 1.0\n",
      "0.8888888888888888 1.0\n",
      "0.8888888888888888 0.9629629629629629\n",
      "15/16\n",
      "0b1111\n"
     ]
    }
   ],
   "source": [
    "def encode(inp, probs):\n",
    "    cdf = probs.shift().cumsum().fillna(0).to_dict()\n",
    "    print(cdf)\n",
    "    probs = probs.to_dict()\n",
    "    l_n, u_n = 0, 1\n",
    "    for c in inp:\n",
    "        print(l_n, u_n)\n",
    "        width = (u_n - l_n)\n",
    "        u_n = l_n + (cdf[c] + alpha_to_prob[c]) * width\n",
    "        l_n = l_n + width * cdf[c]\n",
    "        \n",
    "    print(l_n, u_n)\n",
    "    width = u_n - l_n\n",
    "    return l_n, u_n\n",
    "\n",
    "l_n, u_n = encode(inp, alpha_to_prob)\n",
    "\n",
    "for i in range(0, 100):\n",
    "    enc_sample = 1/(2**(i))\n",
    "    field = np.linspace(0, 1, 2**i)\n",
    "    if any((field>l_n) & (field <u_n)):\n",
    "        idx = (field>l_n).argmax()+1\n",
    "        print('{}/{}'.format(idx, 2**i))\n",
    "        print(bin(idx))\n",
    "        break\n",
    "# for i in range(0, 100):\n",
    "# tag = (u_n + l_n)/2\n",
    "#     enc_sample = 1/(2**(i))\n",
    "#     if enc_sample < width:\n",
    "#         print(i)\n",
    "#         print(bin((np.linspace(0, 1, 2**i)>tag).argmax()))\n",
    "#         break"
   ]
  },
  {
   "cell_type": "code",
   "execution_count": 142,
   "metadata": {},
   "outputs": [
    {
     "data": {
      "text/plain": [
       "0.03703703703703709"
      ]
     },
     "execution_count": 142,
     "metadata": {},
     "output_type": "execute_result"
    }
   ],
   "source": [
    "1-26/27"
   ]
  },
  {
   "cell_type": "code",
   "execution_count": 83,
   "metadata": {},
   "outputs": [
    {
     "name": "stdout",
     "output_type": "stream",
     "text": [
      "9\n"
     ]
    },
    {
     "data": {
      "text/plain": [
       "512"
      ]
     },
     "execution_count": 83,
     "metadata": {},
     "output_type": "execute_result"
    }
   ],
   "source": []
  },
  {
   "cell_type": "code",
   "execution_count": null,
   "metadata": {},
   "outputs": [],
   "source": [
    "# for i in range(10):\n",
    "#     v  =  (2**i)\n",
    "#     for j in v:\n",
    "#         j/v in "
   ]
  },
  {
   "cell_type": "code",
   "execution_count": 77,
   "metadata": {},
   "outputs": [
    {
     "data": {
      "text/plain": [
       "(0.8872505746512326, 0.00013114069332141734)"
      ]
     },
     "execution_count": 77,
     "metadata": {},
     "output_type": "execute_result"
    }
   ],
   "source": [
    "730689/823543 , 108/823543"
   ]
  },
  {
   "cell_type": "code",
   "execution_count": null,
   "metadata": {},
   "outputs": [],
   "source": []
  }
 ],
 "metadata": {
  "kernelspec": {
   "display_name": "Python 3",
   "language": "python",
   "name": "python3"
  },
  "language_info": {
   "codemirror_mode": {
    "name": "ipython",
    "version": 3
   },
   "file_extension": ".py",
   "mimetype": "text/x-python",
   "name": "python",
   "nbconvert_exporter": "python",
   "pygments_lexer": "ipython3",
   "version": "3.7.1"
  }
 },
 "nbformat": 4,
 "nbformat_minor": 2
}
